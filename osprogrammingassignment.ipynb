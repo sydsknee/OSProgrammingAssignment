{
  "nbformat": 4,
  "nbformat_minor": 0,
  "metadata": {
    "colab": {
      "provenance": [],
      "authorship_tag": "ABX9TyPYmPPv+6n3uOojXkeLEGZi"
    },
    "kernelspec": {
      "name": "python3",
      "display_name": "Python 3"
    },
    "language_info": {
      "name": "python"
    }
  },
  "cells": [
    {
      "cell_type": "code",
      "execution_count": 1,
      "metadata": {
        "colab": {
          "base_uri": "https://localhost:8080/"
        },
        "id": "JNKVxMbYsqZS",
        "outputId": "53073ec8-95b6-4806-b640-e5b475bc7964"
      },
      "outputs": [
        {
          "output_type": "stream",
          "name": "stdout",
          "text": [
            "FCFS Waiting Times: [0, 221, 640, 1029, 1497, 1795, 1996, 2320]\n",
            "SJF Waiting Times: [0, 222, 702, 1007, 1423, 1624, 1944, 2320]\n",
            "MLFQ Waiting Times: [196, 449, 262, 366, 11, 14, 8, 895]\n"
          ]
        }
      ],
      "source": [
        "def fcfs(processes):\n",
        "    current_time = 0\n",
        "    waiting_times = []\n",
        "\n",
        "    for process in processes:\n",
        "        arrival_time, *bursts = process\n",
        "        current_time = max(current_time, arrival_time)\n",
        "\n",
        "        waiting_time = current_time - arrival_time\n",
        "        waiting_times.append(waiting_time)\n",
        "\n",
        "        current_time += sum(bursts)\n",
        "\n",
        "    return waiting_times\n",
        "\n",
        "\n",
        "def sjf(processes):\n",
        "    processes.sort(key=lambda x: sum(x[::2]))  # Sort by burst times\n",
        "\n",
        "    return fcfs(processes)\n",
        "\n",
        "\n",
        "def mlfq(processes):\n",
        "    queue1, queue2, queue3 = [], [], []\n",
        "    waiting_times = []\n",
        "\n",
        "    for process in processes:\n",
        "        queue1.append(process)\n",
        "\n",
        "    time_quantum1 = 5\n",
        "    time_quantum2 = 10\n",
        "\n",
        "    while queue1 or queue2 or queue3:\n",
        "        if queue1:\n",
        "            process = queue1.pop(0)\n",
        "            waiting_times.append(process[0])  # Response time\n",
        "            remaining_time = process[0] - time_quantum1\n",
        "\n",
        "            if remaining_time > 0:\n",
        "                queue2.append([remaining_time] + process[1:])\n",
        "            else:\n",
        "                waiting_times[-1] += sum(process[1::2])  # Turnaround time\n",
        "\n",
        "        elif queue2:\n",
        "            process = queue2.pop(0)\n",
        "            remaining_time = process[0] - time_quantum2\n",
        "\n",
        "            if remaining_time > 0:\n",
        "                queue3.append([remaining_time] + process[1:])\n",
        "            else:\n",
        "                waiting_times[-1] += sum(process[1::2])  # Turnaround time\n",
        "\n",
        "        elif queue3:\n",
        "            process = queue3.pop(0)\n",
        "            waiting_times[-1] += sum(process[1::2])  # Turnaround time\n",
        "\n",
        "    return waiting_times\n",
        "\n",
        "\n",
        "# Example usage with all processes\n",
        "processes = [\n",
        "    [5, 27, 3, 31, 5, 43, 4, 18, 6, 22, 4, 26, 3, 24, 4],\n",
        "    [4, 48, 5, 44, 7, 42, 12, 37, 9, 76, 4, 41, 9, 31, 7, 43, 8],\n",
        "    [8, 33, 12, 41, 18, 65, 14, 21, 4, 61, 15, 18, 14, 26, 5, 31, 6],\n",
        "    [3, 35, 4, 41, 5, 45, 3, 51, 4, 61, 5, 54, 6, 82, 5, 77, 3],\n",
        "    [16, 24, 17, 21, 5, 36, 16, 26, 7, 31, 13, 28, 11, 21, 6, 13, 3, 11, 4],\n",
        "    [11, 22, 4, 8, 5, 10, 6, 12, 7, 14, 9, 18, 12, 24, 15, 30, 8],\n",
        "    [14, 46, 17, 41, 11, 42, 15, 21, 4, 32, 7, 19, 16, 33, 10],\n",
        "    [4, 14, 5, 33, 6, 51, 14, 73, 16, 87, 6],\n",
        "]\n",
        "\n",
        "fcfs_waiting_times = fcfs(processes)\n",
        "sjf_waiting_times = sjf(processes)\n",
        "mlfq_waiting_times = mlfq(processes)\n",
        "\n",
        "print(\"FCFS Waiting Times:\", fcfs_waiting_times)\n",
        "print(\"SJF Waiting Times:\", sjf_waiting_times)\n",
        "print(\"MLFQ Waiting Times:\", mlfq_waiting_times)\n"
      ]
    }
  ]
}